{
 "cells": [
  {
   "cell_type": "code",
   "execution_count": 1,
   "id": "3b2f3229-a1ee-4e35-9cc2-ff373cede989",
   "metadata": {},
   "outputs": [
    {
     "name": "stderr",
     "output_type": "stream",
     "text": [
      "\n",
      "Attaching package: ‘dplyr’\n",
      "\n",
      "\n",
      "The following objects are masked from ‘package:stats’:\n",
      "\n",
      "    filter, lag\n",
      "\n",
      "\n",
      "The following objects are masked from ‘package:base’:\n",
      "\n",
      "    intersect, setdiff, setequal, union\n",
      "\n",
      "\n"
     ]
    }
   ],
   "source": [
    "library(reshape2)\n",
    "library(dplyr)\n",
    "meta <- read.csv( paste0(\"/data/shanlan/crc_trio/1.sub_analysis/plot/\",\"TableS1_sgWGS_mutMeta.csv\"), header = T, sep = ',' ) %>% dplyr::select(c(1,18:33))"
   ]
  },
  {
   "cell_type": "code",
   "execution_count": 2,
   "id": "045a18b0-af1a-46f8-97de-398e98d4488d",
   "metadata": {},
   "outputs": [],
   "source": [
    "#incomplete morphology\n",
    "#library artifacts\n",
    "#N_biased: 'FAP03_N2_R4_G6\n",
    "#NameError(VarifyID): 'FAP03_P1_R1_G3','FAP03_P1_R2_G12','FAP03_P3_R2_G1','FAP03_P5_R1_G5','FAP03_P5_R2_G10'\n",
    "#'FAP01_P6_R2_G6','FAP01_P4_R5_G5': Manual Review by mutational Signatures \n",
    "#discard patients\n",
    "\n",
    "black_1 = c(\n",
    "            'FAP03_N2_R4_G6',\n",
    "            'FAP03_P1_R1_G3','FAP03_P1_R2_G12','FAP03_P3_R2_G1','FAP03_P5_R1_G5','FAP03_P5_R2_G10',\n",
    "            'FAP01_P6_R2_G6','FAP01_P4_R5_G5'\n",
    "           )\n",
    "\n",
    "# lowdepth\n",
    "black_2 = meta %>% filter(round(depth)<5) %>% dplyr::select(Tumor_Sample_Barcode) %>% t() %>% as.vector()\n",
    "\n",
    "#low TMB\n",
    "black_3 = meta %>% filter(TMB > 1000 & round(depth)<7 ) %>% dplyr::select(Tumor_Sample_Barcode) %>% t() %>% as.vector()\n",
    "\n",
    "#Abnormally high C>A mutation ratio, including Unusual signature distribution by Manual Review\n",
    "black_4 = meta %>% filter(C.A > 40 | C.T < 20) %>% dplyr::select(Tumor_Sample_Barcode) %>% t() %>% as.vector()\n",
    "\n",
    "#Presence of multi-hits within numerous same drivers\n",
    "\n",
    "black_5 = meta %>% filter( driverMut > 50 ) %>% dplyr::select(Tumor_Sample_Barcode) %>% t() %>% as.vector()\n",
    "\n",
    "# rescued: FAP01_P6_R5_G11\n",
    "black_list <- setdiff(Reduce(union, list(black_1, black_2, black_3,black_4,black_5)),c('FAP01_P6_R5_G11'))\n"
   ]
  },
  {
   "cell_type": "code",
   "execution_count": null,
   "id": "1b81c28f-9f51-4896-a7b1-e5d3db18d64c",
   "metadata": {},
   "outputs": [],
   "source": []
  },
  {
   "cell_type": "code",
   "execution_count": 6,
   "id": "06992e78-d064-416e-941d-311c7b60d489",
   "metadata": {},
   "outputs": [],
   "source": [
    "black_final<-read.table(\"/data/shanlan/crc_trio/1.sub_analysis/sgWGS_black_list.txt\", sep = \"\\t\", header = F)$V1"
   ]
  },
  {
   "cell_type": "code",
   "execution_count": 7,
   "id": "e34d2fbf-091e-4018-8ba0-9ca4788f76ff",
   "metadata": {},
   "outputs": [
    {
     "data": {
      "text/html": [],
      "text/latex": [],
      "text/markdown": [],
      "text/plain": [
       "character(0)"
      ]
     },
     "metadata": {},
     "output_type": "display_data"
    },
    {
     "data": {
      "text/html": [],
      "text/latex": [],
      "text/markdown": [],
      "text/plain": [
       "character(0)"
      ]
     },
     "metadata": {},
     "output_type": "display_data"
    }
   ],
   "source": [
    "setdiff(black_list, black_final) \n",
    "setdiff(black_final, black_list) "
   ]
  },
  {
   "cell_type": "code",
   "execution_count": 8,
   "id": "6fbaff90-162b-4036-b422-7509ceb2f1e4",
   "metadata": {},
   "outputs": [],
   "source": [
    "cc_list <- '/data/shanlan/crc_trio/1.sub_analysis/runtime/2.sgWGS/tree/sgWGS_ToCC_list0518' %>% read.table() %>% filter(grepl('FAP',V1)) %>% \n",
    "dplyr::select(V1) %>% t() %>% as.vector()"
   ]
  },
  {
   "cell_type": "code",
   "execution_count": 9,
   "id": "bf491220-ddf4-4c3a-80c1-22185cfb7697",
   "metadata": {},
   "outputs": [],
   "source": [
    "dat = meta %>% filter(!Tumor_Sample_Barcode %in% black_list)"
   ]
  },
  {
   "cell_type": "code",
   "execution_count": null,
   "id": "8f417e0c-6874-415a-acbf-593c603d887d",
   "metadata": {},
   "outputs": [],
   "source": [
    "write.table(meta %>% filter(Tumor_Sample_Barcode %in% cc_list) ,\"/data/shanlan/crc_trio/1.sub_analysis/sgWGS_meta_toCC.txt\", quote = F, sep = \"\\t\", col.names = T, row.names = F)"
   ]
  },
  {
   "cell_type": "code",
   "execution_count": null,
   "id": "b4c6e5f8-a89d-4ef6-b698-f4325cda2f58",
   "metadata": {},
   "outputs": [],
   "source": []
  },
  {
   "cell_type": "code",
   "execution_count": null,
   "id": "1cf4bdf7-8510-436d-a8c7-9fab026f0d2f",
   "metadata": {},
   "outputs": [],
   "source": []
  }
 ],
 "metadata": {
  "kernelspec": {
   "display_name": "R4.3",
   "language": "R",
   "name": "ir_r4.3"
  },
  "language_info": {
   "codemirror_mode": "r",
   "file_extension": ".r",
   "mimetype": "text/x-r-source",
   "name": "R",
   "pygments_lexer": "r",
   "version": "4.3.3"
  }
 },
 "nbformat": 4,
 "nbformat_minor": 5
}
